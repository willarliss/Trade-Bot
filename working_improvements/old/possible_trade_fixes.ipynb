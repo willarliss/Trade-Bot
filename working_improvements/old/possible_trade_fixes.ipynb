{
 "cells": [
  {
   "cell_type": "code",
   "execution_count": 1,
   "metadata": {},
   "outputs": [],
   "source": [
    "import time\n",
    "import numpy as np\n",
    "import matplotlib.pyplot as plt"
   ]
  },
  {
   "cell_type": "code",
   "execution_count": null,
   "metadata": {},
   "outputs": [],
   "source": [
    "trades_init = np.random.uniform(0, 1, 4)\n",
    "sum(trades_init)"
   ]
  },
  {
   "cell_type": "code",
   "execution_count": null,
   "metadata": {},
   "outputs": [],
   "source": [
    "trades = trades_init.copy()\n",
    "purchases = {'a':0.09, 'b':0.83, 'c':0.85}\n",
    "trades = list(purchases.values())\n",
    "print(trades, sum(trades))\n",
    "\n",
    "plt.figure()\n",
    "plt.bar(np.arange(len(trades)), trades)\n",
    "plt.show()\n",
    "\n",
    "step = 1e-5\n",
    "while sum(trades) > 1:\n",
    "    indexes = [i for i,j in enumerate(trades) if j == max(trades)]\n",
    "    for idx in indexes:\n",
    "        trades[idx] -= step\n",
    "\n",
    "print(trades, sum(trades))\n",
    "\n",
    "plt.figure()\n",
    "plt.bar(np.arange(len(trades)), trades)\n",
    "plt.show()"
   ]
  },
  {
   "cell_type": "code",
   "execution_count": null,
   "metadata": {},
   "outputs": [],
   "source": [
    "trades = trades_init.copy()\n",
    "print(trades, sum(trades))\n",
    "\n",
    "plt.figure()\n",
    "plt.bar(np.arange(len(trades)), trades)\n",
    "plt.show()\n",
    "\n",
    "trades = np.array([t/sum(trades) for t in trades])\n",
    "print(trades, sum(trades))\n",
    "\n",
    "plt.figure()\n",
    "plt.bar(np.arange(len(trades)), trades)\n",
    "plt.show()"
   ]
  },
  {
   "cell_type": "code",
   "execution_count": null,
   "metadata": {},
   "outputs": [],
   "source": [
    "trades = list(trades_init.copy())\n",
    "trades = [0.3, 0.43, 0.35]\n",
    "print(trades, sum(trades))\n",
    "\n",
    "#extra = sum([(1/len(trades))-t for t in trades])\n",
    "extra = sum([1-t for t in trades])\n",
    "trades.append(extra)\n",
    "print(trades, sum(trades))\n",
    "\n",
    "plt.figure()\n",
    "plt.bar(np.arange(len(trades)), trades)\n",
    "plt.show()\n",
    "\n",
    "trades = np.array([t/sum(trades) for t in trades])\n",
    "print(trades, sum(trades))\n",
    "\n",
    "plt.figure()\n",
    "plt.bar(np.arange(len(trades)), trades)\n",
    "plt.show()\n",
    "\n",
    "print(trades[:-1], sum(trades[:-1]))"
   ]
  },
  {
   "cell_type": "code",
   "execution_count": null,
   "metadata": {},
   "outputs": [],
   "source": [
    "purchases = {'a':0.09, 'b':0.83, 'c':0.85}\n",
    "#purchases = {'a':0.3, 'b':0.43, 'c':0.35}\n",
    "#purchases = {'a':0.3, 'b':0.33, 'c':0.31}\n",
    "print(purchases, sum(purchases.values()))\n",
    "\n",
    "extra = sum([1-p for p in purchases.values()])\n",
    "purchases['_out'] = extra\n",
    "print(purchases, sum(purchases.values()))\n",
    "\n",
    "tot = sum(purchases.values())\n",
    "purchases = {stock: quant/tot for stock, quant in purchases.items()}\n",
    "print(purchases, sum(purchases.values()))\n",
    "\n",
    "purchases.pop('_out')\n",
    "print(purchases, sum(purchases.values()))"
   ]
  },
  {
   "cell_type": "code",
   "execution_count": null,
   "metadata": {},
   "outputs": [],
   "source": [
    "x = [0.999, 0.999, 0.999]\n",
    "y = [i/(len(x)) for i in x]\n",
    "y"
   ]
  },
  {
   "cell_type": "code",
   "execution_count": null,
   "metadata": {},
   "outputs": [],
   "source": [
    "sum(y)"
   ]
  },
  {
   "cell_type": "markdown",
   "metadata": {},
   "source": [
    "---\n",
    "---\n",
    "---"
   ]
  },
  {
   "cell_type": "code",
   "execution_count": 6,
   "metadata": {},
   "outputs": [
    {
     "name": "stdout",
     "output_type": "stream",
     "text": [
      "{'a': 0.09, 'b': 0.6, 'c': 0.75} 1.44\n"
     ]
    },
    {
     "data": {
      "image/png": "[encoded data removed]",
      "text/plain": [
       "<Figure size 432x288 with 1 Axes>"
      ]
     },
     "metadata": {
      "needs_background": "light"
     },
     "output_type": "display_data"
    },
    {
     "name": "stdout",
     "output_type": "stream",
     "text": [
      "0.20643186569213867 \n",
      "\n",
      "{'a': 0.09, 'b': 0.4550000000004101, 'c': 0.45499000000109274} 0.9999900000015027\n"
     ]
    },
    {
     "data": {
      "image/png": "[encoded data removed]",
      "text/plain": [
       "<Figure size 432x288 with 1 Axes>"
      ]
     },
     "metadata": {
      "needs_background": "light"
     },
     "output_type": "display_data"
    }
   ],
   "source": [
    "purchases = {'a':0.09, 'b':0.6, 'c':0.75}\n",
    "print(purchases, sum(purchases.values()))\n",
    "\n",
    "plt.figure()\n",
    "plt.bar(purchases.keys(), purchases.values())\n",
    "plt.ylim([0,1])\n",
    "plt.show()\n",
    "\n",
    "###\n",
    "\n",
    "t0 = time.time()\n",
    "\n",
    "step = 1e-5\n",
    "while sum(purchases.values()) > 1:\n",
    "    indexes = [i for i,j in purchases.items() if j == max(purchases.values())]\n",
    "    for idx in indexes:\n",
    "        purchases[idx] -= step\n",
    "\n",
    "print(time.time()-t0, '\\n')\n",
    "\n",
    "###\n",
    "\n",
    "print(purchases, sum(purchases.values()))\n",
    "\n",
    "plt.figure()\n",
    "plt.bar(purchases.keys(), purchases.values())\n",
    "plt.ylim([0,1])\n",
    "plt.show()\n"
   ]
  },
  {
   "cell_type": "code",
   "execution_count": null,
   "metadata": {},
   "outputs": [],
   "source": []
  }
 ],
 "metadata": {
  "kernelspec": {
   "display_name": "Python 3",
   "language": "python",
   "name": "python3"
  },
  "language_info": {
   "codemirror_mode": {
    "name": "ipython",
    "version": 3
   },
   "file_extension": ".py",
   "mimetype": "text/x-python",
   "name": "python",
   "nbconvert_exporter": "python",
   "pygments_lexer": "ipython3",
   "version": "3.7.9"
  }
 },
 "nbformat": 4,
 "nbformat_minor": 4
}
