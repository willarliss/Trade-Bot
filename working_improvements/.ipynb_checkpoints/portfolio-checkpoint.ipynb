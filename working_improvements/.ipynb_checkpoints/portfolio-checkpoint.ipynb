{
 "cells": [
  {
   "cell_type": "code",
   "execution_count": 1,
   "metadata": {},
   "outputs": [],
   "source": [
    "import numpy as np\n",
    "import pandas as pd\n",
    "from functions import fetch_data"
   ]
  },
  {
   "cell_type": "code",
   "execution_count": 2,
   "metadata": {},
   "outputs": [],
   "source": [
    "df1 = fetch_data('fb_df')\n",
    "df2 = fetch_data('aapl_df')\n",
    "df3 = fetch_data('nflx_df')\n",
    "df4 = fetch_data('goog_df')\n",
    "df5 = fetch_data('sp500_df')"
   ]
  },
  {
   "cell_type": "code",
   "execution_count": 3,
   "metadata": {},
   "outputs": [],
   "source": [
    "class Portfolio:\n",
    "    \n",
    "    \"\"\"For each trade, the object will buy or sell positions in the portfolio according how much is available. Passing\n",
    "    0.5 to the object means that it will purchase 50% of all shares available (according to current balance and price). \n",
    "    Passing -0.5 to the object means that it will sell 50% of all shares available (according to how many it has). Sales\n",
    "    are executed first, then purchase quantities are normalized according to the balance after the sales.\"\"\"\n",
    "    \n",
    "    def __init__(self, stocks, balance_init=1_000_000, fee=0.001):\n",
    "        \n",
    "        assert type(stocks) == list and len(stocks) >= 1\n",
    "        assert balance_init >= 100\n",
    "        assert fee >= 0\n",
    "        \n",
    "        self.stocks = [stock.lower() for stock in stocks]\n",
    "        self.balance_init = balance_init\n",
    "        self.fee = fee\n",
    "        \n",
    "    def reset(self):\n",
    "        \n",
    "        positions = {pos:0.0 for pos in self.stocks}\n",
    "        self.positions_full = positions.copy() # Number of shares held for each stock\n",
    "        self.positions_norm = positions.copy() # Portfolio exposure of each stock\n",
    "        self.positions_norm['_out'] = 1.0 # Portfolio exposure includes none\n",
    "\n",
    "        self.balance = self.balance_init # Liquidity in account\n",
    "        self.net_worth = self.balance_init # liquidity + shares*prices\n",
    "        \n",
    "        self.days_passed = 0\n",
    "        self.profits = []\n",
    "        \n",
    "        return self\n",
    "        \n",
    "    def make_trade(self, actions, prices):\n",
    "        \n",
    "        step = 1e-5\n",
    "        assert type(actions) == dict\n",
    "        assert type(prices) == dict\n",
    "        \n",
    "        net_worth_prev = self.net_worth\n",
    "        sales = {stock:action for stock, action in actions.items() if action < 0}\n",
    "        purchases = {stock:action for stock, action in actions.items() if action > 0}\n",
    "        \n",
    "        # Execute sales first\n",
    "        for stock, action in sales.items():\n",
    "            \n",
    "            # How many shares are held\n",
    "            total_possible = self.positions_full[stock]\n",
    "            # Sell the specified portion of available held\n",
    "            shares_sold = total_possible * -action\n",
    "            # Profit is the price times quantity minus fee\n",
    "            profit = shares_sold * prices[stock] * (1 - self.fee)\n",
    "\n",
    "            print('sold', round(shares_sold, 1), 'shares of', stock)\n",
    "            self.positions_full[stock] -= shares_sold\n",
    "            self.balance += profit\n",
    "                \n",
    "        # Adjust purchase allocations        \n",
    "        while sum(purchases.values()) > 1:\n",
    "            purchases = {k: \n",
    "                v - 1e-4 if round(v, 9) == round(max(purchases.values()), 9) else v \n",
    "                for k, v in purchases.items()\n",
    "                }\n",
    "  \n",
    "        # Execute purchases\n",
    "        balance = self.balance\n",
    "        for stock, action in purchases.items():    \n",
    "            \n",
    "            # How many shares can be afforded\n",
    "            total_possible = balance / (prices[stock]*(1+self.fee))\n",
    "            # Buy specified amount of available shares\n",
    "            shares_bought = total_possible * action\n",
    "            # Cost is th eprices times the quantity plus fee\n",
    "            cost = shares_bought * prices[stock] * (1 + self.fee)\n",
    "            \n",
    "            print('bought', round(shares_bought, 1), 'shares of', stock)\n",
    "            self.positions_full[stock] += shares_bought\n",
    "            self.balance -= cost\n",
    "\n",
    "        # Calculate net_worth\n",
    "        self.net_worth = self.balance + \\\n",
    "            sum( shares*price for shares, price in zip(self.positions_full.values(), prices.values()) )\n",
    "        \n",
    "        # Calculate exposures\n",
    "        for position in self.positions_norm.keys():\n",
    "            if position == '_out':\n",
    "                self.positions_norm[position] = self.balance / self.net_worth\n",
    "            else:\n",
    "                self.positions_norm[position] = (self.positions_full[position]*prices[position]) / self.net_worth\n",
    "                \n",
    "        self.days_passed += 1\n",
    "        self.profits.append(self.net_worth-net_worth_prev)\n",
    "        \n",
    "    def report(self):\n",
    "        \n",
    "        print('Balance:', round(self.balance, 5))\n",
    "        print('Net worth:', self.net_worth)\n",
    "        print('Shares held:', self.positions_full)\n",
    "        print('Exposures:', self.positions_norm, '|', \\\n",
    "              round(sum(self.positions_norm.values()), 5))\n",
    "        \n",
    "        try:\n",
    "            print('Current profit:', self.profits[-1])\n",
    "        except IndexError:\n",
    "            print(\"Current profit: NA\")\n",
    "       \n",
    "        try:\n",
    "            print('Average profit:', sum(self.profits)/self.days_passed)\n",
    "        except ZeroDivisionError:\n",
    "            print(\"Average profit: NA\")\n",
    "       \n",
    "        print('Total profit:', sum(self.profits))\n",
    "        print('n Steps:', self.days_passed)\n",
    "            \n",
    "        return sum(self.profits)\n",
    "    "
   ]
  },
  {
   "cell_type": "markdown",
   "metadata": {},
   "source": [
    "---"
   ]
  },
  {
   "cell_type": "code",
   "execution_count": 4,
   "metadata": {},
   "outputs": [],
   "source": [
    "portfolio = Portfolio(['aapl', 'NFLX', 'Goog'])\n",
    "portfolio.reset();"
   ]
  },
  {
   "cell_type": "code",
   "execution_count": 5,
   "metadata": {},
   "outputs": [
    {
     "name": "stdout",
     "output_type": "stream",
     "text": [
      "Balance: 1000000\n",
      "Net worth: 1000000\n",
      "Shares held: {'aapl': 0.0, 'nflx': 0.0, 'goog': 0.0}\n",
      "Exposures: {'aapl': 0.0, 'nflx': 0.0, 'goog': 0.0, '_out': 1.0} | 1.0\n",
      "Current profit: NA\n",
      "Average profit: NA\n",
      "Total profit: 0\n",
      "n Steps: 0\n"
     ]
    }
   ],
   "source": [
    "portfolio.report();"
   ]
  },
  {
   "cell_type": "code",
   "execution_count": 6,
   "metadata": {},
   "outputs": [
    {
     "name": "stdout",
     "output_type": "stream",
     "text": [
      "bought 16610.4 shares of aapl\n",
      "bought 32489.1 shares of nflx\n",
      "bought 1088.5 shares of goog\n"
     ]
    }
   ],
   "source": [
    "allocations = {'aapl':1, 'nflx':1, 'goog':1}\n",
    "stocks = {\n",
    "    'aapl': float(df2[df2['date']=='2012-05-21']['close']), \n",
    "    'nflx': float(df3[df3['date']=='2012-05-21']['close']),\n",
    "    'goog': float(df4[df4['date']=='2012-05-21']['close']),\n",
    "    }\n",
    "\n",
    "portfolio.make_trade(allocations, stocks)"
   ]
  },
  {
   "cell_type": "code",
   "execution_count": 7,
   "metadata": {},
   "outputs": [
    {
     "name": "stdout",
     "output_type": "stream",
     "text": [
      "Balance: 100.0\n",
      "Net worth: 999001.0989010987\n",
      "Shares held: {'aapl': 16610.38611932169, 'nflx': 32489.1180406621, 'goog': 1088.4534331370255}\n",
      "Exposures: {'aapl': 0.3332999666700769, 'nflx': 0.3332999666700769, 'goog': 0.3332999666700769, '_out': 0.00010009998976940647} | 1.0\n",
      "Current profit: -998.9010989012895\n",
      "Average profit: -998.9010989012895\n",
      "Total profit: -998.9010989012895\n",
      "n Steps: 1\n"
     ]
    }
   ],
   "source": [
    "portfolio.report();"
   ]
  },
  {
   "cell_type": "code",
   "execution_count": 8,
   "metadata": {},
   "outputs": [
    {
     "name": "stdout",
     "output_type": "stream",
     "text": [
      "sold 544.2 shares of goog\n",
      "bought 4087.5 shares of aapl\n",
      "bought 8405.8 shares of nflx\n"
     ]
    }
   ],
   "source": [
    "allocations = {'aapl':0.6, 'nflx':0.7, 'goog':-0.5}\n",
    "stocks = {\n",
    "    'aapl': float(df2[df2['date']=='2012-05-22']['close']), \n",
    "    'nflx': float(df3[df3['date']=='2012-05-22']['close']),\n",
    "    'goog': float(df4[df4['date']=='2012-05-22']['close']),\n",
    "    }\n",
    "\n",
    "portfolio.make_trade(allocations, stocks)"
   ]
  },
  {
   "cell_type": "code",
   "execution_count": 9,
   "metadata": {},
   "outputs": [
    {
     "name": "stdout",
     "output_type": "stream",
     "text": [
      "Balance: 32.56247\n",
      "Net worth: 970197.7789937564\n",
      "Shares held: {'aapl': 20697.93122226699, 'nflx': 40894.96716472987, 'goog': 544.2267165685128}\n",
      "Exposures: {'aapl': 0.42436588510952905, 'nflx': 0.4077221964107105, 'goog': 0.16787835576992968, '_out': 3.3562709830774754e-05} | 1.0\n",
      "Current profit: -28803.319907342317\n",
      "Average profit: -14901.110503121803\n",
      "Total profit: -29802.221006243606\n",
      "n Steps: 2\n"
     ]
    }
   ],
   "source": [
    "portfolio.report();"
   ]
  },
  {
   "cell_type": "code",
   "execution_count": 10,
   "metadata": {},
   "outputs": [
    {
     "name": "stdout",
     "output_type": "stream",
     "text": [
      "sold 6830.3 shares of aapl\n",
      "sold 13495.3 shares of nflx\n",
      "bought 730.7 shares of goog\n"
     ]
    }
   ],
   "source": [
    "allocations = {'aapl':-0.33, 'nflx':-0.33, 'goog':0.8}\n",
    "stocks = {\n",
    "    'aapl': float(df2[df2['date']=='2012-05-23']['close']), \n",
    "    'nflx': float(df3[df3['date']=='2012-05-23']['close']),\n",
    "    'goog': float(df4[df4['date']=='2012-05-23']['close']),\n",
    "    }\n",
    "\n",
    "portfolio.make_trade(allocations, stocks)"
   ]
  },
  {
   "cell_type": "code",
   "execution_count": 11,
   "metadata": {},
   "outputs": [
    {
     "name": "stdout",
     "output_type": "stream",
     "text": [
      "Balance: 55514.55589\n",
      "Net worth: 1006628.6578905067\n",
      "Shares held: {'aapl': 13867.613918918883, 'nflx': 27399.62800036901, 'goog': 1274.9321849114478}\n",
      "Exposures: {'aapl': 0.28072153103525466, 'nflx': 0.2796189618630977, 'goog': 0.3845105150174008, '_out': 0.05514899208424679} | 1.0\n",
      "Current profit: 36430.87889675028\n",
      "Average profit: 2209.55263016889\n",
      "Total profit: 6628.657890506671\n",
      "n Steps: 3\n"
     ]
    }
   ],
   "source": [
    "portfolio.report();"
   ]
  },
  {
   "cell_type": "code",
   "execution_count": null,
   "metadata": {},
   "outputs": [],
   "source": []
  }
 ],
 "metadata": {
  "kernelspec": {
   "display_name": "Python 3",
   "language": "python",
   "name": "python3"
  },
  "language_info": {
   "codemirror_mode": {
    "name": "ipython",
    "version": 3
   },
   "file_extension": ".py",
   "mimetype": "text/x-python",
   "name": "python",
   "nbconvert_exporter": "python",
   "pygments_lexer": "ipython3",
   "version": "3.7.9"
  }
 },
 "nbformat": 4,
 "nbformat_minor": 4
}
