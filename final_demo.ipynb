{
 "cells": [
  {
   "cell_type": "code",
   "execution_count": null,
   "metadata": {},
   "outputs": [],
   "source": [
    "import os\n",
    "import warnings\n",
    "\n",
    "import numpy as np\n",
    "import pandas as pd\n",
    "import matplotlib.pyplot as plt\n",
    "\n",
    "from support_code.model import DQN\n",
    "from support_code.env import TradingEnv\n",
    "from support_code.functions import fetch_data, buy_and_hold, unpickle_model, corr"
   ]
  },
  {
   "cell_type": "code",
   "execution_count": null,
   "metadata": {},
   "outputs": [],
   "source": [
    "warnings.simplefilter('ignore')"
   ]
  },
  {
   "cell_type": "markdown",
   "metadata": {},
   "source": [
    "Load in stock price history for one company:"
   ]
  },
  {
   "cell_type": "code",
   "execution_count": null,
   "metadata": {},
   "outputs": [],
   "source": [
    "stock = 'GOOG'\n",
    "df = fetch_data(stock.lower()+'_df')\n",
    "print(f'Stock: {stock}')"
   ]
  },
  {
   "cell_type": "markdown",
   "metadata": {},
   "source": [
    "---"
   ]
  },
  {
   "cell_type": "markdown",
   "metadata": {},
   "source": [
    "Initialize the environment for testing:"
   ]
  },
  {
   "cell_type": "code",
   "execution_count": null,
   "metadata": {},
   "outputs": [],
   "source": [
    "starting_balance = 1_000_000\n",
    "\n",
    "env = TradingEnv(df, balance_init=starting_balance, training=False)\n",
    "\n",
    "env.verbose=1\n",
    "env.reset();"
   ]
  },
  {
   "cell_type": "markdown",
   "metadata": {},
   "source": [
    "Save global variables for the price history, buy and hold performance, and testing date range:"
   ]
  },
  {
   "cell_type": "code",
   "execution_count": null,
   "metadata": {},
   "outputs": [],
   "source": [
    "PRICE_HISTORY = df['close'].loc[env.train_test_split:].values[:-1]\n",
    "LONG_STRATEGY = buy_and_hold(balance_init=env.balance_init, back_prices=PRICE_HISTORY, fee=env.fee)\n",
    "DATE_RANGE = pd.to_datetime(df['date'].loc[env.train_test_split:].values)[:-1]"
   ]
  },
  {
   "cell_type": "markdown",
   "metadata": {},
   "source": [
    "Simulate the performance of a random agent:"
   ]
  },
  {
   "cell_type": "code",
   "execution_count": null,
   "metadata": {
    "scrolled": true
   },
   "outputs": [],
   "source": [
    "done = False\n",
    "obs = env.reset()\n",
    "start = env.current_step\n",
    "\n",
    "model_performance = []\n",
    "actions = []\n",
    "\n",
    "while not done:\n",
    "    \n",
    "    model_performance.append(env.net_worth)\n",
    "        \n",
    "    action = np.random.randint(env.action_space.n)\n",
    "    obs, rewards, done, info = env.step(action)\n",
    "\n",
    "    actions.append(env._actions[action])\n",
    "    \n",
    "end = env.current_step"
   ]
  },
  {
   "cell_type": "code",
   "execution_count": null,
   "metadata": {},
   "outputs": [],
   "source": [
    "date_range_ = pd.to_datetime(df['date'].values[start:end])"
   ]
  },
  {
   "cell_type": "markdown",
   "metadata": {},
   "source": [
    "Plot the performance of the agent:"
   ]
  },
  {
   "cell_type": "code",
   "execution_count": null,
   "metadata": {
    "scrolled": false
   },
   "outputs": [],
   "source": [
    "fig = plt.figure(figsize=(15,8))\n",
    "ax1 = fig.add_subplot(211)\n",
    "ax2 = fig.add_subplot(212)\n",
    "\n",
    "ax1.plot(DATE_RANGE, LONG_STRATEGY, 'b--', alpha=0.5, label='Buy and Hold')\n",
    "ax1.plot(date_range_, model_performance, 'r-', label='Backtesting Model')\n",
    "ax1.axhline(env.balance_init, alpha=0.1, color='blue')\n",
    "ax1.set_ylabel('Portfolio Value (M)')\n",
    "ax1.set_title('Random Actions')\n",
    "ax1.legend()\n",
    "\n",
    "ax2.plot(DATE_RANGE, PRICE_HISTORY, 'b-', label=stock)\n",
    "ax2.set_ylabel('Stock Value')\n",
    "ax2.legend()\n",
    "\n",
    "fig.tight_layout()\n",
    "fig.savefig(f'./assets/{stock}_performance_rand.jpg');\n",
    "fig.show();"
   ]
  },
  {
   "cell_type": "markdown",
   "metadata": {},
   "source": [
    "Plot the actions taken by the agent:"
   ]
  },
  {
   "cell_type": "code",
   "execution_count": null,
   "metadata": {},
   "outputs": [],
   "source": [
    "plt.figure(figsize=(15,5))\n",
    "plt.plot(actions, 'b-', alpha=0.6667)\n",
    "plt.plot(actions, 'r.')\n",
    "\n",
    "plt.title('Action Trace')\n",
    "plt.xlabel('Step')\n",
    "plt.ylabel('Portion of Portfolio Bought/Sold')\n",
    "\n",
    "plt.tight_layout()\n",
    "plt.savefig(f'./assets/{stock}_actions_rand.png')\n",
    "plt.show();"
   ]
  },
  {
   "cell_type": "markdown",
   "metadata": {},
   "source": [
    "Find the correlation between actions and price history:"
   ]
  },
  {
   "cell_type": "code",
   "execution_count": null,
   "metadata": {},
   "outputs": [],
   "source": [
    "print(corr(actions, PRICE_HISTORY[:len(actions)]))"
   ]
  },
  {
   "cell_type": "markdown",
   "metadata": {},
   "source": [
    "---"
   ]
  },
  {
   "cell_type": "markdown",
   "metadata": {},
   "source": [
    "Unpickle the model to be tested:"
   ]
  },
  {
   "cell_type": "code",
   "execution_count": null,
   "metadata": {},
   "outputs": [],
   "source": [
    "dqn_solver = unpickle_model(DQN, path='./models/model_info_sp500_1')\n",
    "dqn_solver.alpha = 0.01\n",
    "dqn_solver.alpha_min = 0.01"
   ]
  },
  {
   "cell_type": "markdown",
   "metadata": {},
   "source": [
    "Simulate the agent's performance:"
   ]
  },
  {
   "cell_type": "code",
   "execution_count": null,
   "metadata": {
    "scrolled": true
   },
   "outputs": [],
   "source": [
    "model_performance = []\n",
    "actions = []\n",
    "    \n",
    "state = env.reset()\n",
    "start = env.current_step\n",
    "done = False    \n",
    "\n",
    "while not done:\n",
    "\n",
    "    model_performance.append(env.net_worth)  \n",
    "\n",
    "    action = dqn_solver.act(state)\n",
    "    next_state, reward, done, info = env.step(action)\n",
    "\n",
    "    dqn_solver.remember(state, action, reward, next_state, done)\n",
    "    state = next_state\n",
    "\n",
    "    actions.append(action)\n",
    "    #dqn_solver.replay();  "
   ]
  },
  {
   "cell_type": "code",
   "execution_count": null,
   "metadata": {},
   "outputs": [],
   "source": [
    "date_range_ = pd.to_datetime(df['date'].values[env.train_test_split:env.train_test_split+len(model_performance)])"
   ]
  },
  {
   "cell_type": "markdown",
   "metadata": {},
   "source": [
    "Plot the performance of the agent:"
   ]
  },
  {
   "cell_type": "code",
   "execution_count": null,
   "metadata": {},
   "outputs": [],
   "source": [
    "fig = plt.figure(figsize=(15,8))\n",
    "ax1 = fig.add_subplot(211)\n",
    "ax2 = fig.add_subplot(212)\n",
    "\n",
    "ax1.plot(DATE_RANGE, LONG_STRATEGY, 'b--', alpha=0.7, label='Buy and Hold')\n",
    "ax1.plot(date_range_, model_performance, 'r-', label='Backtesting Model')\n",
    "ax1.axhline(env.balance_init, alpha=0.1, color='blue')\n",
    "ax1.set_ylabel('Portfolio Value (M)')\n",
    "ax1.set_title('Intelligent/Trained Actions')\n",
    "ax1.legend()\n",
    "\n",
    "ax2.plot(DATE_RANGE, PRICE_HISTORY, 'b-', label=stock)\n",
    "ax2.set_ylabel('Stock Value')\n",
    "ax2.legend(loc='upper left')\n",
    "\n",
    "fig.tight_layout()\n",
    "fig.savefig(f'./assets/{stock}_performance_trained.jpg');\n",
    "fig.show();"
   ]
  },
  {
   "cell_type": "markdown",
   "metadata": {},
   "source": [
    "Plot the actions taken by the agent:"
   ]
  },
  {
   "cell_type": "code",
   "execution_count": null,
   "metadata": {},
   "outputs": [],
   "source": [
    "plt.figure(figsize=(15,5))\n",
    "plt.plot(actions, 'b-', alpha=0.6667)\n",
    "plt.plot(actions, 'r.')\n",
    "\n",
    "plt.title('Action Trace')\n",
    "plt.xlabel('Step')\n",
    "plt.ylabel('Portion of Portfolio Bought/Sold')\n",
    "plt.yticks(np.arange(len(env._actions)), env._actions)\n",
    "\n",
    "plt.tight_layout()\n",
    "plt.savefig(f'./assets/{stock}_actions_trained.png')\n",
    "plt.show();"
   ]
  },
  {
   "cell_type": "markdown",
   "metadata": {},
   "source": [
    "Find the correlation between actions and price history:"
   ]
  },
  {
   "cell_type": "code",
   "execution_count": null,
   "metadata": {},
   "outputs": [],
   "source": [
    "print(corr(actions, PRICE_HISTORY[:len(actions)]))"
   ]
  },
  {
   "cell_type": "markdown",
   "metadata": {},
   "source": [
    " "
   ]
  }
 ],
 "metadata": {
  "kernelspec": {
   "display_name": "Python 3",
   "language": "python",
   "name": "python3"
  },
  "language_info": {
   "codemirror_mode": {
    "name": "ipython",
    "version": 3
   },
   "file_extension": ".py",
   "mimetype": "text/x-python",
   "name": "python",
   "nbconvert_exporter": "python",
   "pygments_lexer": "ipython3",
   "version": "3.7.9"
  }
 },
 "nbformat": 4,
 "nbformat_minor": 4
}
