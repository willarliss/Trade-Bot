{
 "cells": [
  {
   "cell_type": "code",
   "execution_count": 3,
   "metadata": {},
   "outputs": [],
   "source": [
    "import numpy as np\n",
    "import pandas as pd\n",
    "from functions import fetch_data"
   ]
  },
  {
   "cell_type": "code",
   "execution_count": 4,
   "metadata": {},
   "outputs": [],
   "source": [
    "df1 = fetch_data('fb_df')\n",
    "df2 = fetch_data('aapl_df')\n",
    "df3 = fetch_data('nflx_df')\n",
    "df4 = fetch_data('goog_df')\n",
    "df5 = fetch_data('sp500_df')"
   ]
  },
  {
   "cell_type": "code",
   "execution_count": 5,
   "metadata": {},
   "outputs": [],
   "source": [
    "class Portfolio:\n",
    "    \n",
    "    \"\"\"For each trade, the object will buy or sell positions in the portfolio according how much is available. Passing\n",
    "    0.5 to the object means that it will purchase 50% of all shares available (according to current balance and price). \n",
    "    Passing -0.5 to the object means that it will sell 50% of all shares available (according to how many it has). Sales\n",
    "    are executed first, then purchase quantities are normalized according to the balance after the sales.\"\"\"\n",
    "    \n",
    "    def __init__(self, stocks, balance_init=1_000_000, fee=0.001):\n",
    "        \n",
    "        assert type(stocks) == list and len(stocks) >= 1\n",
    "        assert balance_init >= 100\n",
    "        assert fee >= 0\n",
    "        \n",
    "        self.stocks = [stock.lower() for stock in stocks]\n",
    "        self.balance_init = balance_init\n",
    "        self.fee = fee\n",
    "        \n",
    "    def reset(self):\n",
    "        \n",
    "        positions = {pos:0.0 for pos in self.stocks}\n",
    "        self.positions_full = positions.copy() # Number of shares held for each stock\n",
    "        self.positions_norm = positions.copy() # Portfolio exposure of each stock\n",
    "        self.positions_norm['_out'] = 1.0 # Portfolio exposure includes none\n",
    "\n",
    "        self.balance = self.balance_init # Liquidity in account\n",
    "        self.net_worth = self.balance_init # liquidity + shares*prices\n",
    "        \n",
    "        self.days_passed = 0\n",
    "        self.profits = []\n",
    "        \n",
    "        return self\n",
    "        \n",
    "    def make_trade(self, actions, prices):\n",
    "        \n",
    "        assert type(actions) == dict\n",
    "        assert type(prices) == dict\n",
    "        \n",
    "        net_worth_prev = self.net_worth\n",
    "        purchases = {}\n",
    "        \n",
    "        # Execute sales first\n",
    "        for stock, action in actions.items():\n",
    "            if action < 0:\n",
    "                                \n",
    "                # How many shares are held\n",
    "                total_possible = self.positions_full[stock]\n",
    "                # Sell the specified portion of available held\n",
    "                shares_sold = total_possible * -action\n",
    "                # Profit is the price times quantity minus fee\n",
    "                profit = shares_sold * prices[stock] * (1 - self.fee)\n",
    "                \n",
    "                print('sold', round(shares_sold, 1), 'shares of', stock)\n",
    "                self.positions_full[stock] -= shares_sold\n",
    "                self.balance += profit\n",
    "                \n",
    "            elif action > 0:\n",
    "                purchases[stock] = action\n",
    "                \n",
    "        # Adjust purchase allocations\n",
    "        balance = self.balance\n",
    "        tot = sum(purchases.values())\n",
    "        if tot > 1:\n",
    "            purchases = {stock: quant/tot for stock, quant in purchases.items()}\n",
    "                \n",
    "        # Execute purchases\n",
    "        for stock, action in purchases.items():    \n",
    "            \n",
    "            # How many shares can be afforded\n",
    "            total_possible = balance / (prices[stock]*(1+self.fee))\n",
    "            # Buy specified amount of available shares\n",
    "            shares_bought = total_possible * action\n",
    "            # Cost is th eprices times the quantity plus fee\n",
    "            cost = shares_bought * prices[stock] * (1 + self.fee)\n",
    "            \n",
    "            print('bought', round(shares_bought, 1), 'shares of', stock)\n",
    "            self.positions_full[stock] += shares_bought\n",
    "            self.balance -= cost\n",
    "\n",
    "        # Calculate net_worth\n",
    "        self.net_worth = self.balance + \\\n",
    "            sum( shares*price for shares, price in zip(self.positions_full.values(), prices.values()) )\n",
    "        \n",
    "        # Calculate exposures\n",
    "        for position in self.positions_norm.keys():\n",
    "            if position == '_out':\n",
    "                self.positions_norm[position] = self.balance / self.net_worth\n",
    "            else:\n",
    "                self.positions_norm[position] = (self.positions_full[position]*prices[position]) / self.net_worth\n",
    "                \n",
    "        self.days_passed += 1\n",
    "        self.profits.append(self.net_worth-net_worth_prev)\n",
    "        \n",
    "    def report(self):\n",
    "        \n",
    "        print('Balance:', round(self.balance, 5))\n",
    "        print('Net worth:', self.net_worth)\n",
    "        print('Shares held:', self.positions_full)\n",
    "        print('Exposures:', self.positions_norm, '|', \\\n",
    "              round(sum(self.positions_norm.values()), 5))\n",
    "        \n",
    "        try:\n",
    "            print('Current profit:', self.profits[-1])\n",
    "        except IndexError:\n",
    "            print(\"Current profit: NA\")\n",
    "       \n",
    "        try:\n",
    "            print('Average profit:', sum(self.profits)/self.days_passed)\n",
    "        except ZeroDivisionError:\n",
    "            print(\"Average profit: NA\")\n",
    "       \n",
    "        print('Total profit:', sum(self.profits))\n",
    "        print('n Steps:', self.days_passed)\n",
    "            \n",
    "        return sum(self.profits)\n",
    "    "
   ]
  },
  {
   "cell_type": "markdown",
   "metadata": {},
   "source": [
    "---"
   ]
  },
  {
   "cell_type": "code",
   "execution_count": 10,
   "metadata": {},
   "outputs": [],
   "source": [
    "portfolio = Portfolio(['aapl', 'NFLX', 'Goog'])\n",
    "portfolio.reset();"
   ]
  },
  {
   "cell_type": "code",
   "execution_count": 11,
   "metadata": {},
   "outputs": [
    {
     "name": "stdout",
     "output_type": "stream",
     "text": [
      "Balance: 1000000\n",
      "Net worth: 1000000\n",
      "Shares held: {'aapl': 0.0, 'nflx': 0.0, 'goog': 0.0}\n",
      "Exposures: {'aapl': 0.0, 'nflx': 0.0, 'goog': 0.0, '_out': 1.0} | 1.0\n",
      "Current profit: NA\n",
      "Average profit: NA\n",
      "Total profit: 0\n",
      "n Steps: 0\n"
     ]
    }
   ],
   "source": [
    "portfolio.report();"
   ]
  },
  {
   "cell_type": "code",
   "execution_count": 12,
   "metadata": {},
   "outputs": [
    {
     "name": "stdout",
     "output_type": "stream",
     "text": [
      "bought 16612.0 shares of aapl\n",
      "bought 32492.4 shares of nflx\n",
      "bought 1088.6 shares of goog\n"
     ]
    }
   ],
   "source": [
    "allocations = {'aapl':1, 'nflx':1, 'goog':1}\n",
    "stocks = {\n",
    "    'aapl': float(df2[df2['date']=='2012-05-21']['close']), \n",
    "    'nflx': float(df3[df3['date']=='2012-05-21']['close']),\n",
    "    'goog': float(df4[df4['date']=='2012-05-21']['close']),\n",
    "    }\n",
    "\n",
    "portfolio.make_trade(allocations, stocks)"
   ]
  },
  {
   "cell_type": "code",
   "execution_count": 13,
   "metadata": {},
   "outputs": [
    {
     "name": "stdout",
     "output_type": "stream",
     "text": [
      "Balance: -0.0\n",
      "Net worth: 999000.999000999\n",
      "Shares held: {'aapl': 16612.047324050436, 'nflx': 32492.367277382677, 'goog': 1088.562289365722}\n",
      "Exposures: {'aapl': 0.33333333333333337, 'nflx': 0.33333333333333337, 'goog': 0.33333333333333337, '_out': -1.1653173714876175e-16} | 1.0\n",
      "Current profit: -999.0009990009712\n",
      "Average profit: -999.0009990009712\n",
      "Total profit: -999.0009990009712\n",
      "n Steps: 1\n"
     ]
    }
   ],
   "source": [
    "portfolio.report();"
   ]
  },
  {
   "cell_type": "code",
   "execution_count": 14,
   "metadata": {},
   "outputs": [
    {
     "name": "stdout",
     "output_type": "stream",
     "text": [
      "sold 544.3 shares of goog\n",
      "bought 3771.9 shares of aapl\n",
      "bought 9049.6 shares of nflx\n"
     ]
    }
   ],
   "source": [
    "allocations = {'aapl':0.6, 'nflx':0.7, 'goog':-0.5}\n",
    "stocks = {\n",
    "    'aapl': float(df2[df2['date']=='2012-05-22']['close']), \n",
    "    'nflx': float(df3[df3['date']=='2012-05-22']['close']),\n",
    "    'goog': float(df4[df4['date']=='2012-05-22']['close']),\n",
    "    }\n",
    "\n",
    "portfolio.make_trade(allocations, stocks)"
   ]
  },
  {
   "cell_type": "code",
   "execution_count": 15,
   "metadata": {},
   "outputs": [
    {
     "name": "stdout",
     "output_type": "stream",
     "text": [
      "Balance: -0.0\n",
      "Net worth: 970194.8658505111\n",
      "Shares held: {'aapl': 20383.979920125195, 'nflx': 41541.9748279463, 'goog': 544.281144682861}\n",
      "Exposures: {'aapl': 0.4179302540711274, 'nflx': 0.41417409651623394, 'goog': 0.16789564941263868, '_out': -1.499896128146387e-17} | 1.0\n",
      "Current profit: -28806.133150487905\n",
      "Average profit: -14902.567074744438\n",
      "Total profit: -29805.134149488877\n",
      "n Steps: 2\n"
     ]
    }
   ],
   "source": [
    "portfolio.report();"
   ]
  },
  {
   "cell_type": "code",
   "execution_count": 16,
   "metadata": {},
   "outputs": [
    {
     "name": "stdout",
     "output_type": "stream",
     "text": [
      "sold 6726.7 shares of aapl\n",
      "sold 13708.9 shares of nflx\n",
      "bought 730.8 shares of goog\n"
     ]
    }
   ],
   "source": [
    "allocations = {'aapl':-0.33, 'nflx':-0.33, 'goog':0.8}\n",
    "stocks = {\n",
    "    'aapl': float(df2[df2['date']=='2012-05-23']['close']), \n",
    "    'nflx': float(df3[df3['date']=='2012-05-23']['close']),\n",
    "    'goog': float(df4[df4['date']=='2012-05-23']['close']),\n",
    "    }\n",
    "\n",
    "portfolio.make_trade(allocations, stocks)"
   ]
  },
  {
   "cell_type": "code",
   "execution_count": 17,
   "metadata": {},
   "outputs": [
    {
     "name": "stdout",
     "output_type": "stream",
     "text": [
      "Balance: 55524.47328\n",
      "Net worth: 1006861.6844436277\n",
      "Shares held: {'aapl': 13657.26654648388, 'nflx': 27833.12313472402, 'goog': 1275.1171499091984}\n",
      "Exposures: {'aapl': 0.27639949364378946, 'nflx': 0.2839771323549854, 'goog': 0.3844772957048025, '_out': 0.0551460782964227} | 1.0\n",
      "Current profit: 36666.81859311659\n",
      "Average profit: 2287.2281478759055\n",
      "Total profit: 6861.684443627717\n",
      "n Steps: 3\n"
     ]
    }
   ],
   "source": [
    "portfolio.report();"
   ]
  },
  {
   "cell_type": "code",
   "execution_count": null,
   "metadata": {},
   "outputs": [],
   "source": []
  }
 ],
 "metadata": {
  "kernelspec": {
   "display_name": "Python 3",
   "language": "python",
   "name": "python3"
  },
  "language_info": {
   "codemirror_mode": {
    "name": "ipython",
    "version": 3
   },
   "file_extension": ".py",
   "mimetype": "text/x-python",
   "name": "python",
   "nbconvert_exporter": "python",
   "pygments_lexer": "ipython3",
   "version": "3.7.9"
  }
 },
 "nbformat": 4,
 "nbformat_minor": 4
}
