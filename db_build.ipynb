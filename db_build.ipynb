{
 "cells": [
  {
   "cell_type": "code",
   "execution_count": 1,
   "metadata": {},
   "outputs": [],
   "source": [
    "import pandas as pd\n",
    "import os\n",
    "import sqlite3 as sql\n",
    "import numpy as np\n",
    "\n",
    "from functions import fetch_data"
   ]
  },
  {
   "cell_type": "code",
   "execution_count": 2,
   "metadata": {},
   "outputs": [],
   "source": [
    "import warnings\n",
    "warnings.simplefilter('ignore')"
   ]
  },
  {
   "cell_type": "markdown",
   "metadata": {},
   "source": [
    "Data for the backtesting environment will come from Yahoo Finance"
   ]
  },
  {
   "cell_type": "code",
   "execution_count": 92,
   "metadata": {},
   "outputs": [
    {
     "name": "stdout",
     "output_type": "stream",
     "text": [
      "https://finance.yahoo.com/lookup/\n"
     ]
    }
   ],
   "source": [
    "print('https://finance.yahoo.com/lookup/')"
   ]
  },
  {
   "cell_type": "code",
   "execution_count": 3,
   "metadata": {},
   "outputs": [],
   "source": [
    "path = 'C:\\\\Users\\\\William\\\\Downloads'"
   ]
  },
  {
   "cell_type": "markdown",
   "metadata": {},
   "source": [
    "pull files from downloads to save as pandas dataframes"
   ]
  },
  {
   "cell_type": "code",
   "execution_count": 83,
   "metadata": {},
   "outputs": [
    {
     "data": {
      "text/plain": [
       "dict_keys(['fb_df', 'aapl_df', 'nflx_df', 'goog_df', 'sp500_df'])"
      ]
     },
     "execution_count": 83,
     "metadata": {},
     "output_type": "execute_result"
    }
   ],
   "source": [
    "dataframes = {}\n",
    "files = ['FB.csv', 'AAPL.csv', 'NFLX.csv', 'GOOG.csv', 'ES=F.csv']\n",
    "\n",
    "for file in files:\n",
    "    \n",
    "    df = pd.read_csv(os.path.join(path, file))\n",
    "    \n",
    "    df.columns = df.columns.str.lower()\n",
    "    df.columns = df.columns.str.replace(' ', '_')\n",
    "\n",
    "    df.sort_values('date', inplace=True)\n",
    "    df.drop('adj_close', axis=1, inplace=True)\n",
    "\n",
    "    if file == 'ES=F.csv':\n",
    "        name = 'sp500_df'\n",
    "    else:\n",
    "        name = file[:-4].lower() + '_df'\n",
    "    \n",
    "    dataframes[name] = df\n",
    "\n",
    "dataframes.keys()"
   ]
  },
  {
   "cell_type": "markdown",
   "metadata": {},
   "source": [
    "Drop observations before 2009"
   ]
  },
  {
   "cell_type": "code",
   "execution_count": 84,
   "metadata": {},
   "outputs": [],
   "source": [
    "dataframes['aapl_df'] = dataframes['aapl_df'].loc[7078:].dropna(axis=0)"
   ]
  },
  {
   "cell_type": "code",
   "execution_count": 85,
   "metadata": {},
   "outputs": [],
   "source": [
    "dataframes['nflx_df'] = dataframes['nflx_df'].loc[1664:].dropna(axis=0)"
   ]
  },
  {
   "cell_type": "code",
   "execution_count": 86,
   "metadata": {},
   "outputs": [],
   "source": [
    "dataframes['goog_df'] = dataframes['goog_df'].loc[1100:].dropna(axis=0)"
   ]
  },
  {
   "cell_type": "code",
   "execution_count": 87,
   "metadata": {},
   "outputs": [],
   "source": [
    "dataframes['sp500_df'] = dataframes['sp500_df'].loc[2577:].dropna(axis=0)"
   ]
  },
  {
   "cell_type": "markdown",
   "metadata": {},
   "source": [
    "Function for building the db"
   ]
  },
  {
   "cell_type": "code",
   "execution_count": 88,
   "metadata": {},
   "outputs": [],
   "source": [
    "def build_sql(conn, all_dfs):\n",
    "\n",
    "    for name, df in all_dfs.items():\n",
    "\n",
    "        df.to_sql(name, con=conn, index=False, if_exists='replace')\n",
    "    \n",
    "    conn.commit()"
   ]
  },
  {
   "cell_type": "markdown",
   "metadata": {},
   "source": [
    "Function for querying/testing the db"
   ]
  },
  {
   "cell_type": "code",
   "execution_count": 89,
   "metadata": {},
   "outputs": [],
   "source": [
    "def query(conn, name):\n",
    "    \n",
    "    c = conn.cursor()\n",
    "    \n",
    "    c.execute(f\"\"\"\n",
    "        SELECT * \n",
    "        FROM {name};\n",
    "        \"\"\")\n",
    "    \n",
    "    df = pd.DataFrame(c.fetchall(), columns=['date', 'open', 'high', 'low', 'close', 'volume'])\n",
    "    df['date'] = pd.to_datetime(df['date'])\n",
    "    \n",
    "    print(df.head())"
   ]
  },
  {
   "cell_type": "markdown",
   "metadata": {},
   "source": [
    "I like to wrap SQL functions in try-except clauses to avoid certain errors with the .db file"
   ]
  },
  {
   "cell_type": "code",
   "execution_count": 90,
   "metadata": {},
   "outputs": [],
   "source": [
    "connection = sql.connect('ticker_data.db')\n",
    "\n",
    "try:\n",
    "    build_sql(connection, dataframes)\n",
    "    #query(connection, 'fb_df')\n",
    "except Exception as e:\n",
    "    print('EXCEPTION', e)\n",
    "\n",
    "connection.close()"
   ]
  },
  {
   "cell_type": "code",
   "execution_count": 91,
   "metadata": {},
   "outputs": [
    {
     "name": "stdout",
     "output_type": "stream",
     "text": [
      "        date    open    high     low   close     volume\n",
      "0 2008-12-30  870.25  889.00  868.75  888.25   777046.0\n",
      "1 2009-01-02  900.00  932.75  893.50  925.50  1095813.0\n",
      "2 2009-01-05  924.75  934.25  916.50  927.50  1606235.0\n",
      "3 2009-01-06  927.25  942.75  923.50  930.50  1912293.0\n",
      "4 2009-01-07  930.25  931.75  898.75  905.25  1961214.0\n"
     ]
    }
   ],
   "source": [
    "connection = sql.connect('ticker_data.db')\n",
    "\n",
    "try:\n",
    "    query(connection, 'sp500_df')\n",
    "except Exception as e:\n",
    "    print('EXCEPTION', e)\n",
    "\n",
    "connection.close()"
   ]
  },
  {
   "cell_type": "code",
   "execution_count": 3,
   "metadata": {},
   "outputs": [
    {
     "data": {
      "text/html": [
       "<div>\n",
       "<style scoped>\n",
       "    .dataframe tbody tr th:only-of-type {\n",
       "        vertical-align: middle;\n",
       "    }\n",
       "\n",
       "    .dataframe tbody tr th {\n",
       "        vertical-align: top;\n",
       "    }\n",
       "\n",
       "    .dataframe thead th {\n",
       "        text-align: right;\n",
       "    }\n",
       "</style>\n",
       "<table border=\"1\" class=\"dataframe\">\n",
       "  <thead>\n",
       "    <tr style=\"text-align: right;\">\n",
       "      <th></th>\n",
       "      <th>date</th>\n",
       "      <th>open</th>\n",
       "      <th>high</th>\n",
       "      <th>low</th>\n",
       "      <th>close</th>\n",
       "      <th>volume</th>\n",
       "    </tr>\n",
       "  </thead>\n",
       "  <tbody>\n",
       "    <tr>\n",
       "      <th>0</th>\n",
       "      <td>2012-05-18</td>\n",
       "      <td>42.049999</td>\n",
       "      <td>45.000000</td>\n",
       "      <td>38.000000</td>\n",
       "      <td>38.230000</td>\n",
       "      <td>573576400</td>\n",
       "    </tr>\n",
       "    <tr>\n",
       "      <th>1</th>\n",
       "      <td>2012-05-21</td>\n",
       "      <td>36.529999</td>\n",
       "      <td>36.660000</td>\n",
       "      <td>33.000000</td>\n",
       "      <td>34.029999</td>\n",
       "      <td>168192700</td>\n",
       "    </tr>\n",
       "    <tr>\n",
       "      <th>2</th>\n",
       "      <td>2012-05-22</td>\n",
       "      <td>32.610001</td>\n",
       "      <td>33.590000</td>\n",
       "      <td>30.940001</td>\n",
       "      <td>31.000000</td>\n",
       "      <td>101786600</td>\n",
       "    </tr>\n",
       "    <tr>\n",
       "      <th>3</th>\n",
       "      <td>2012-05-23</td>\n",
       "      <td>31.370001</td>\n",
       "      <td>32.500000</td>\n",
       "      <td>31.360001</td>\n",
       "      <td>32.000000</td>\n",
       "      <td>73600000</td>\n",
       "    </tr>\n",
       "    <tr>\n",
       "      <th>4</th>\n",
       "      <td>2012-05-24</td>\n",
       "      <td>32.950001</td>\n",
       "      <td>33.209999</td>\n",
       "      <td>31.770000</td>\n",
       "      <td>33.029999</td>\n",
       "      <td>50237200</td>\n",
       "    </tr>\n",
       "  </tbody>\n",
       "</table>\n",
       "</div>"
      ],
      "text/plain": [
       "         date       open       high        low      close     volume\n",
       "0  2012-05-18  42.049999  45.000000  38.000000  38.230000  573576400\n",
       "1  2012-05-21  36.529999  36.660000  33.000000  34.029999  168192700\n",
       "2  2012-05-22  32.610001  33.590000  30.940001  31.000000  101786600\n",
       "3  2012-05-23  31.370001  32.500000  31.360001  32.000000   73600000\n",
       "4  2012-05-24  32.950001  33.209999  31.770000  33.029999   50237200"
      ]
     },
     "execution_count": 3,
     "metadata": {},
     "output_type": "execute_result"
    }
   ],
   "source": [
    "fetch_data('fb_df').head()"
   ]
  },
  {
   "cell_type": "code",
   "execution_count": null,
   "metadata": {},
   "outputs": [],
   "source": []
  }
 ],
 "metadata": {
  "kernelspec": {
   "display_name": "Python 3",
   "language": "python",
   "name": "python3"
  },
  "language_info": {
   "codemirror_mode": {
    "name": "ipython",
    "version": 3
   },
   "file_extension": ".py",
   "mimetype": "text/x-python",
   "name": "python",
   "nbconvert_exporter": "python",
   "pygments_lexer": "ipython3",
   "version": "3.7.9"
  }
 },
 "nbformat": 4,
 "nbformat_minor": 4
}
